{
 "cells": [
  {
   "cell_type": "code",
   "execution_count": 2,
   "metadata": {},
   "outputs": [
    {
     "name": "stdout",
     "output_type": "stream",
     "text": [
      "{'first_name': 'hammad', 'last_name': 'rasool', 'age': 26, 'city': 'karachi'}\n",
      "{'first_name': 'hammad', 'last_name': 'rasool', 'age': 26, 'city': 'karachi', 'qualification': 'matric'}\n",
      "{'first_name': 'hammad', 'last_name': 'rasool', 'age': 26, 'city': 'karachi', 'qualification': 'high academic level'}\n",
      "{'first_name': 'hammad', 'last_name': 'rasool', 'age': 26, 'city': 'karachi'}\n"
     ]
    }
   ],
   "source": [
    "# Question 01\n",
    "my_dict = {'first_name':'hammad','last_name':'rasool', 'age': 26,'city':'karachi',}\n",
    "print(my_dict)\n",
    "my_dict['qualification'] = 'matric' \n",
    "print(my_dict)\n",
    "my_dict['qualification'] = 'high academic level'  \n",
    "print(my_dict)\n",
    "del my_dict['qualification']\n",
    "print(my_dict)"
   ]
  },
  {
   "cell_type": "code",
   "execution_count": 4,
   "metadata": {},
   "outputs": [
    {
     "name": "stdout",
     "output_type": "stream",
     "text": [
      "['pakistan', '1 million']\n",
      "['pakistan', '0.5 million']\n",
      "['pakistan', '0.75 million']\n"
     ]
    }
   ],
   "source": [
    "# Question 02\n",
    "cities = {'karachi':['pakistan','1 million'],\n",
    "         'lahore':['pakistan','0.5 million'],\n",
    "          'attock':['pakistan','0.75 million']}\n",
    "print(cities['karachi'])\n",
    "print(cities['lahore'])\n",
    "print(cities['attock'])"
   ]
  },
  {
   "cell_type": "code",
   "execution_count": null,
   "metadata": {},
   "outputs": [
    {
     "name": "stdout",
     "output_type": "stream",
     "text": [
      "enter your age34\n",
      "your tickets price is $15\n"
     ]
    }
   ],
   "source": [
    "# Question 03\n",
    "while True:\n",
    "      age=int(input(\"enter your age\")) \n",
    "      if age< 3:\n",
    "        print(\"your ticket is free\")\n",
    "      elif 3<age<12:\n",
    "         print(\"your tickets price is $10\")\n",
    "      elif age>12:\n",
    "         print(\"your tickets price is $15\")      \n",
    "   \n",
    "\n",
    "\n",
    "  \n",
    "\n",
    "    \n",
    "    \n"
   ]
  },
  {
   "cell_type": "code",
   "execution_count": 5,
   "metadata": {},
   "outputs": [
    {
     "name": "stdout",
     "output_type": "stream",
     "text": [
      "one of my fav book is\tAlice in wonderland\n"
     ]
    }
   ],
   "source": [
    "# Question 04\n",
    "def fav_book(title):\n",
    "    print(\"one of my fav book is\" + \"\\t\" + title)\n",
    "\n",
    "fav_book('Alice in wonderland')    \n",
    "    "
   ]
  },
  {
   "cell_type": "code",
   "execution_count": 13,
   "metadata": {},
   "outputs": [
    {
     "name": "stdout",
     "output_type": "stream",
     "text": [
      "you have 3 chances left\n",
      "enter your no\t2\n",
      "you have 2 chances left\n",
      "enter your no\t2\n",
      "you have 1 chances left\n",
      "enter your no\t1\n",
      "you won\n"
     ]
    }
   ],
   "source": [
    "# Question 04\n",
    "from random import randint\n",
    "value = randint(0, 3)\n",
    "a=0\n",
    "for i in range (3,0,-1):\n",
    "    print(\"you have\",i,\"chances left\")\n",
    "    no=int(input(\"enter your no\\t\"))\n",
    "    if value==no:\n",
    "        print(\"you won\")\n",
    "        a=1\n",
    "        break\n",
    "if a!=1:\n",
    "    print(\"you loose\")"
   ]
  },
  {
   "cell_type": "code",
   "execution_count": null,
   "metadata": {},
   "outputs": [],
   "source": []
  }
 ],
 "metadata": {
  "kernelspec": {
   "display_name": "Python 3",
   "language": "python",
   "name": "python3"
  },
  "language_info": {
   "codemirror_mode": {
    "name": "ipython",
    "version": 3
   },
   "file_extension": ".py",
   "mimetype": "text/x-python",
   "name": "python",
   "nbconvert_exporter": "python",
   "pygments_lexer": "ipython3",
   "version": "3.7.4"
  }
 },
 "nbformat": 4,
 "nbformat_minor": 2
}
