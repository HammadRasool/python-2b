{
 "cells": [
  {
   "cell_type": "code",
   "execution_count": 24,
   "metadata": {},
   "outputs": [
    {
     "name": "stdout",
     "output_type": "stream",
     "text": [
      "enter no4\n",
      "The factorial of 4 is 24\n",
      "None\n"
     ]
    }
   ],
   "source": [
    "#Question 01\n",
    "\n",
    "def factorial(num):\n",
    "    factorial=1\n",
    "    for i in range(1,num + 1):\n",
    "                factorial = factorial*i\n",
    "                \n",
    "    print(\"The factorial of\",num,\"is\",factorial)           \n",
    "    \n",
    "      \n",
    "   \n",
    "num=int(input(\"enter no\"))        \n",
    "fac=factorial(num) \n",
    "print(fac)"
   ]
  },
  {
   "cell_type": "code",
   "execution_count": 34,
   "metadata": {},
   "outputs": [
    {
     "name": "stdout",
     "output_type": "stream",
     "text": [
      "In original String : \n",
      "Uppercase - 2\n",
      "Lowercase - 10\n",
      "Spaces - 1\n"
     ]
    }
   ],
   "source": [
    "\n",
    "#question 02\n",
    "  \n",
    "def fun(string):\n",
    "    count1 = 0\n",
    "    count2 = 0\n",
    "    count3 = 0\n",
    "    for a in string:\n",
    "        if (a.isupper()) == True:\n",
    "             count1+= 1\n",
    "         \n",
    "        elif (a.islower()) == True:\n",
    "         count2+= 1\n",
    "        elif (a.isspace()) == True:\n",
    "           count3+= 1\n",
    "\n",
    "\n",
    "         \n",
    "         \n",
    "    print(\"In original String : \") \n",
    "    print(\"Uppercase -\", count1) \n",
    "    print(\"Lowercase -\", count2) \n",
    "    print(\"Spaces -\", count3) \n",
    "\n",
    "fun(\"Hammad Rasool\")\n",
    "  \n"
   ]
  },
  {
   "cell_type": "code",
   "execution_count": 35,
   "metadata": {},
   "outputs": [
    {
     "name": "stdout",
     "output_type": "stream",
     "text": [
      "10 4 66 "
     ]
    }
   ],
   "source": [
    "\n",
    "#question 03\n",
    "  \n",
    "# Python program to print Even Numbers in a List \n",
    "  \n",
    "# list of numbers \n",
    "list1 = [10, 21, 4, 45, 66, 93] \n",
    "  \n",
    "# iterating each number in list \n",
    "for num in list1: \n",
    "      \n",
    "    # checking condition \n",
    "    if num % 2 == 0: \n",
    "       print(num, end = \" \") "
   ]
  },
  {
   "cell_type": "code",
   "execution_count": 40,
   "metadata": {},
   "outputs": [
    {
     "name": "stdout",
     "output_type": "stream",
     "text": [
      "False\n"
     ]
    }
   ],
   "source": [
    "#question 04\n",
    "\n",
    "def isPalindrome(string):\n",
    "\tleft_pos = 0\n",
    "\tright_pos = len(string) - 1\n",
    "\t\n",
    "\twhile right_pos >= left_pos:\n",
    "\t\tif not string[left_pos] == string[right_pos]:\n",
    "\t\t\treturn False\n",
    "\t\tleft_pos += 1\n",
    "\t\tright_pos -= 1\n",
    "\treturn True\n",
    "print(isPalindrome('azaza')) "
   ]
  },
  {
   "cell_type": "code",
   "execution_count": null,
   "metadata": {},
   "outputs": [],
   "source": []
  }
 ],
 "metadata": {
  "kernelspec": {
   "display_name": "Python 3",
   "language": "python",
   "name": "python3"
  },
  "language_info": {
   "codemirror_mode": {
    "name": "ipython",
    "version": 3
   },
   "file_extension": ".py",
   "mimetype": "text/x-python",
   "name": "python",
   "nbconvert_exporter": "python",
   "pygments_lexer": "ipython3",
   "version": "3.7.4"
  }
 },
 "nbformat": 4,
 "nbformat_minor": 2
}
