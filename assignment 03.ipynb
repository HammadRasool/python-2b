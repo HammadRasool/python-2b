{
 "cells": [
  {
   "cell_type": "code",
   "execution_count": 22,
   "metadata": {},
   "outputs": [
    {
     "name": "stdout",
     "output_type": "stream",
     "text": [
      "enter first number2\n",
      "enter second number6\n",
      "enter operator/\n",
      "answer= 0.3333333333333333\n"
     ]
    }
   ],
   "source": [
    "#question 01\n",
    "first_num=int(input(\"enter first number\"))\n",
    "second_num=int(input(\"enter second number\") )                                              \n",
    "operator=input('enter operator')\n",
    "if operator=='+':\n",
    "    answer=first_num+second_num\n",
    "elif operator=='-':\n",
    "    answer=first_num-second_num\n",
    "elif operator=='*':\n",
    "    answer=first_num*second_num    \n",
    "elif operator=='/':\n",
    "    answer=first_num/second_num\n",
    "elif operator=='p':\n",
    "    answer=first_num**second_num    \n",
    "                       \n",
    "print(\"answer=\",answer)        "
   ]
  },
  {
   "cell_type": "markdown",
   "metadata": {},
   "source": [
    "### "
   ]
  },
  {
   "cell_type": "code",
   "execution_count": 31,
   "metadata": {},
   "outputs": [
    {
     "name": "stdout",
     "output_type": "stream",
     "text": [
      "numeric no in list= 0\n"
     ]
    }
   ],
   "source": [
    "#question 02\n",
    "list=[\"hammad\",\"w\",\"a\"]\n",
    "a=0\n",
    "for i in list:\n",
    "   # s=list[2]\n",
    "    try:\n",
    "        num=int(i)\n",
    "        a+=1\n",
    "    except:\n",
    "        pass\n",
    "print(\"numeric no in list=\",a)        \n",
    "    "
   ]
  },
  {
   "cell_type": "code",
   "execution_count": 36,
   "metadata": {},
   "outputs": [
    {
     "name": "stdout",
     "output_type": "stream",
     "text": [
      "{'name': 56, 'age': 23, 'class': 10}\n"
     ]
    }
   ],
   "source": [
    "#question 03\n",
    "dic = {\n",
    "    \"name\": 56,\n",
    "    \"age\" : 23 \n",
    "    }\n",
    "dic.update({\"class\":10})\n",
    "print(dic)"
   ]
  },
  {
   "cell_type": "code",
   "execution_count": 46,
   "metadata": {},
   "outputs": [
    {
     "name": "stdout",
     "output_type": "stream",
     "text": [
      "Total sum of values in the dictionary:\n",
      "879\n"
     ]
    }
   ],
   "source": [
    "#question 04\n",
    "d={'A':100,'B':540,'C':239}\n",
    "print(\"Total sum of values in the dictionary:\")\n",
    "print(sum(d.values()))\n"
   ]
  },
  {
   "cell_type": "code",
   "execution_count": 47,
   "metadata": {},
   "outputs": [
    {
     "name": "stdout",
     "output_type": "stream",
     "text": [
      "Yes, list contains duplicates\n"
     ]
    }
   ],
   "source": [
    "#question 05\n",
    "def checkIfDuplicates_1(listOfElems):\n",
    "    ''' Check if given list contains any duplicates '''\n",
    "    if len(listOfElems) == len(set(listOfElems)):\n",
    "        return False\n",
    "    else:\n",
    "        return True\n",
    "\n",
    "\n",
    "listOfElems = ['Hello', 'Ok', 'is', 'Ok', 'test', 'this', 'is', 'a', 'test']\n",
    " \n",
    "result = checkIfDuplicates_1(listOfElems)\n",
    " \n",
    "if result:\n",
    "    print('Yes, list contains duplicates')\n",
    "else:\n",
    "    print('No duplicates found in list')    "
   ]
  },
  {
   "cell_type": "code",
   "execution_count": null,
   "metadata": {},
   "outputs": [],
   "source": []
  }
 ],
 "metadata": {
  "kernelspec": {
   "display_name": "Python 3",
   "language": "python",
   "name": "python3"
  },
  "language_info": {
   "codemirror_mode": {
    "name": "ipython",
    "version": 3
   },
   "file_extension": ".py",
   "mimetype": "text/x-python",
   "name": "python",
   "nbconvert_exporter": "python",
   "pygments_lexer": "ipython3",
   "version": "3.7.4"
  }
 },
 "nbformat": 4,
 "nbformat_minor": 2
}
